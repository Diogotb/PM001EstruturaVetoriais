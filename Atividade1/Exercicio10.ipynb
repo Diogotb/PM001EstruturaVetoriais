{
 "cells": [
  {
   "cell_type": "code",
   "execution_count": 10,
   "metadata": {},
   "outputs": [
    {
     "name": "stdout",
     "output_type": "stream",
     "text": [
      "matriz aumentada\n",
      "[[2. 1. 1. 0.]\n",
      " [4. 3. 0. 1.]]\n",
      "fator diagonal\n",
      "4.0\n",
      "matriz aumentada\n",
      "[[ 1.   0.5  0.5  0. ]\n",
      " [ 0.   1.  -2.   1. ]]\n",
      "fator diagonal\n",
      "0.5\n",
      "matriz aumentada\n",
      "[[ 1.   0.   1.5 -0.5]\n",
      " [ 0.   1.  -2.   1. ]]\n",
      "Matriz inversa:\n",
      "[[ 1.5 -0.5]\n",
      " [-2.   1. ]]\n"
     ]
    }
   ],
   "source": [
    "import numpy as np\n",
    "\n",
    "def matriz_inversa(matriz):\n",
    "    n = len(matriz)\n",
    "    \n",
    "    # Criar uma matriz aumentada [matriz | Identidade]\n",
    "    matriz_aumentada = np.hstack([matriz, np.eye(n)])\n",
    "    print('matriz aumentada')\n",
    "    print(matriz_aumentada)\n",
    "    # Aplicar operações elementares para transformar a parte esquerda em uma matriz identidade\n",
    "    for i in range(n):\n",
    "        # Dividir a linha i pelo elemento diagonal para tornar o elemento diagonal 1\n",
    "        elemento_diagonal = matriz_aumentada[i][i]\n",
    "        matriz_aumentada[i] /= elemento_diagonal\n",
    "        \n",
    "        # Zerar todos os elementos abaixo do elemento diagonal\n",
    "        for j in range(i + 1, n):\n",
    "            fator_diagonal = matriz_aumentada[j][i]\n",
    "            matriz_aumentada[j] -= fator_diagonal * matriz_aumentada[i]\n",
    "            print('fator diagonal')\n",
    "            print(fator_diagonal)\n",
    "            print('matriz aumentada')\n",
    "            print(matriz_aumentada)\n",
    "        \n",
    "    \n",
    "    # Zerar todos os elementos acima do elemento diagonal\n",
    "    for i in range(n - 1, -1, -1):\n",
    "        for j in range(i - 1, -1, -1):\n",
    "            fator_diagonal = matriz_aumentada[j][i]\n",
    "            matriz_aumentada[j] -= fator_diagonal * matriz_aumentada[i]\n",
    "            print('fator diagonal')\n",
    "            print(fator_diagonal)\n",
    "            print('matriz aumentada')\n",
    "            print(matriz_aumentada)\n",
    "        \n",
    "    \n",
    "\n",
    "    # Extrair a parte direita (a inversa) da matriz aumentada\n",
    "    inversa = matriz_aumentada[:, n:]\n",
    "    \n",
    "    return inversa\n",
    "\n",
    "# Teste com a matriz fornecida no exemplo\n",
    "matriz = np.array([[2, 1], [4, 3]])\n",
    "inversa = matriz_inversa(matriz)\n",
    "print(\"Matriz inversa:\")\n",
    "print(inversa)\n"
   ]
  }
 ],
 "metadata": {
  "kernelspec": {
   "display_name": "Python 3",
   "language": "python",
   "name": "python3"
  },
  "language_info": {
   "codemirror_mode": {
    "name": "ipython",
    "version": 3
   },
   "file_extension": ".py",
   "mimetype": "text/x-python",
   "name": "python",
   "nbconvert_exporter": "python",
   "pygments_lexer": "ipython3",
   "version": "3.12.3"
  }
 },
 "nbformat": 4,
 "nbformat_minor": 2
}

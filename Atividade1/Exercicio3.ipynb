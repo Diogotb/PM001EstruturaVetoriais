{
 "cells": [
  {
   "cell_type": "code",
   "execution_count": 1,
   "metadata": {},
   "outputs": [
    {
     "name": "stdout",
     "output_type": "stream",
     "text": [
      "pivot\n",
      "1.0\n",
      "resultado pivotado\n",
      "[[1. 1. 0. 0. 0. 0.]\n",
      " [0. 3. 7. 3. 8. 2.]\n",
      " [0. 0. 1. 1. 0. 0.]\n",
      " [0. 0. 0. 0. 1. 1.]]\n",
      "pivot\n",
      "3.0\n",
      "resultado pivotado\n",
      "[[1.         1.         0.         0.         0.         0.        ]\n",
      " [0.         1.         2.33333333 1.         2.66666667 0.66666667]\n",
      " [0.         0.         1.         1.         0.         0.        ]\n",
      " [0.         0.         0.         0.         1.         1.        ]]\n",
      "pivot\n",
      "1.0\n",
      "resultado pivotado\n",
      "[[1.         1.         0.         0.         0.         0.        ]\n",
      " [0.         1.         2.33333333 1.         2.66666667 0.66666667]\n",
      " [0.         0.         1.         1.         0.         0.        ]\n",
      " [0.         0.         0.         0.         1.         1.        ]]\n",
      "pivot\n",
      "0.0\n",
      "resultado pivotado\n",
      "[[1.         1.         0.         0.         0.         0.        ]\n",
      " [0.         1.         2.33333333 1.         2.66666667 0.66666667]\n",
      " [0.         0.         1.         1.         0.         0.        ]\n",
      " [0.         0.         0.         0.         1.         1.        ]]\n"
     ]
    }
   ],
   "source": [
    "import numpy as np\n",
    "\n",
    "# Definindo a matriz dada\n",
    "matriz = np.array([[0.0, 3.0, 7.0, 3.0, 8.0, 2.0],\n",
    "                   [1.0, 1.0, 0.0, 0.0, 0.0, 0.0],\n",
    "                   [0.0, 0.0, 1.0, 1.0, 0.0, 0.0],\n",
    "                   [0.0, 0.0, 0.0, 0.0, 1.0, 1.0]])\n",
    "\n",
    "def reduzir_matriz(matriz):\n",
    "    num_linhas, num_colunas = matriz.shape\n",
    "    for coluna_pivo in range(num_colunas):\n",
    "        # Verifica se há elementos na sequência antes de calcular o índice da linha do pivô\n",
    "        if coluna_pivo < num_linhas:\n",
    "            # Encontra o índice da linha com o maior elemento em valor absoluto na coluna do pivô\n",
    "            linha_pivo = np.argmax(matriz[coluna_pivo:, coluna_pivo]) + coluna_pivo\n",
    "\n",
    "            # Troca as linhas se necessário para colocar o pivô na linha corrente\n",
    "            if linha_pivo != coluna_pivo:\n",
    "                matriz[[linha_pivo, coluna_pivo]] = matriz[[coluna_pivo, linha_pivo]]\n",
    "\n",
    "            # Divide a linha do pivô pelo valor do pivô para torná-lo 1\n",
    "            pivot = matriz[coluna_pivo, coluna_pivo]\n",
    "            if pivot != 0:\n",
    "                matriz[coluna_pivo] = matriz[coluna_pivo] / pivot\n",
    "\n",
    "            # Subtrai múltiplos da linha do pivô das linhas abaixo para fazer os elementos abaixo do pivô iguais a zero\n",
    "            for linha in range(coluna_pivo + 1, num_linhas):\n",
    "                coeficiente = matriz[linha, coluna_pivo]\n",
    "                matriz[linha] -= coeficiente * matriz[coluna_pivo]\n",
    "            print(\"pivot\")\n",
    "            print(pivot)\n",
    "            print('resultado pivotado')\n",
    "            print(matriz)\n",
    "\n",
    "    return matriz\n",
    "\n",
    "# Escalonamento da matriz\n",
    "matriz_reduzida_manual = reduzir_matriz(matriz.copy())\n",
    "\n"
   ]
  },
  {
   "cell_type": "code",
   "execution_count": 3,
   "metadata": {},
   "outputs": [
    {
     "name": "stdout",
     "output_type": "stream",
     "text": [
      "Posto da matriz dos coeficientes: 2\n",
      "Determinante da matriz dos coeficientes: 0.0\n",
      "O sistema é inconsistente ou possui um número infinito de soluções.\n"
     ]
    }
   ],
   "source": [
    "import numpy as np\n",
    "\n",
    "# Definindo os coeficientes do sistema de equações\n",
    "coeficientes = np.array([[1, 0, 1],\n",
    "                         [1, 1, 1],\n",
    "                         [0, 1, 0]])\n",
    "\n",
    "# Calculando o posto da matriz\n",
    "posto = np.linalg.matrix_rank(coeficientes)\n",
    "\n",
    "# Calculando a determinante da matriz\n",
    "determinante = np.linalg.det(coeficientes)\n",
    "\n",
    "print(\"Posto da matriz dos coeficientes:\", posto)\n",
    "print(\"Determinante da matriz dos coeficientes:\", determinante)\n",
    "\n",
    "# Verificando as possibilidades com base no posto e na determinante\n",
    "if determinante != 0:\n",
    "    if posto == coeficientes.shape[0]:\n",
    "        print(\"O sistema tem uma única solução.\")\n",
    "    else:\n",
    "        print(\"O sistema tem infinitas soluções.\")\n",
    "else:\n",
    "    print(\"O sistema é inconsistente ou possui um número infinito de soluções.\")\n"
   ]
  },
  {
   "cell_type": "code",
   "execution_count": 6,
   "metadata": {},
   "outputs": [
    {
     "ename": "LinAlgError",
     "evalue": "Last 2 dimensions of the array must be square",
     "output_type": "error",
     "traceback": [
      "\u001b[1;31m---------------------------------------------------------------------------\u001b[0m",
      "\u001b[1;31mLinAlgError\u001b[0m                               Traceback (most recent call last)",
      "Cell \u001b[1;32mIn[6], line 10\u001b[0m\n\u001b[0;32m      4\u001b[0m matriz_coeficientes_homogeneo \u001b[38;5;241m=\u001b[39m np\u001b[38;5;241m.\u001b[39marray([[\u001b[38;5;241m0\u001b[39m, \u001b[38;5;241m3\u001b[39m, \u001b[38;5;241m7\u001b[39m, \u001b[38;5;241m3\u001b[39m, \u001b[38;5;241m8\u001b[39m, \u001b[38;5;241m2\u001b[39m],\n\u001b[0;32m      5\u001b[0m                                           [\u001b[38;5;241m1\u001b[39m, \u001b[38;5;241m1\u001b[39m, \u001b[38;5;241m0\u001b[39m, \u001b[38;5;241m0\u001b[39m, \u001b[38;5;241m0\u001b[39m, \u001b[38;5;241m0\u001b[39m],\n\u001b[0;32m      6\u001b[0m                                           [\u001b[38;5;241m0\u001b[39m, \u001b[38;5;241m0\u001b[39m, \u001b[38;5;241m1\u001b[39m, \u001b[38;5;241m1\u001b[39m, \u001b[38;5;241m0\u001b[39m, \u001b[38;5;241m0\u001b[39m],\n\u001b[0;32m      7\u001b[0m                                           [\u001b[38;5;241m0\u001b[39m, \u001b[38;5;241m0\u001b[39m, \u001b[38;5;241m0\u001b[39m, \u001b[38;5;241m0\u001b[39m, \u001b[38;5;241m1\u001b[39m, \u001b[38;5;241m1\u001b[39m]])\n\u001b[0;32m      9\u001b[0m \u001b[38;5;66;03m# Verificando se a matriz tem uma solução não trivial\u001b[39;00m\n\u001b[1;32m---> 10\u001b[0m solucao_trivial \u001b[38;5;241m=\u001b[39m np\u001b[38;5;241m.\u001b[39mall(\u001b[43mnp\u001b[49m\u001b[38;5;241;43m.\u001b[39;49m\u001b[43mlinalg\u001b[49m\u001b[38;5;241;43m.\u001b[39;49m\u001b[43msolve\u001b[49m\u001b[43m(\u001b[49m\u001b[43mmatriz_coeficientes_homogeneo\u001b[49m\u001b[43m,\u001b[49m\u001b[43m \u001b[49m\u001b[43mnp\u001b[49m\u001b[38;5;241;43m.\u001b[39;49m\u001b[43mzeros\u001b[49m\u001b[43m(\u001b[49m\u001b[43mmatriz_coeficientes_homogeneo\u001b[49m\u001b[38;5;241;43m.\u001b[39;49m\u001b[43mshape\u001b[49m\u001b[43m[\u001b[49m\u001b[38;5;241;43m0\u001b[39;49m\u001b[43m]\u001b[49m\u001b[43m)\u001b[49m\u001b[43m)\u001b[49m \u001b[38;5;241m==\u001b[39m \u001b[38;5;241m0\u001b[39m)\n\u001b[0;32m     12\u001b[0m \u001b[38;5;28;01mif\u001b[39;00m solucao_trivial:\n\u001b[0;32m     13\u001b[0m     \u001b[38;5;28mprint\u001b[39m(\u001b[38;5;124m\"\u001b[39m\u001b[38;5;124mA matriz dos coeficientes representa um sistema homogêneo.\u001b[39m\u001b[38;5;124m\"\u001b[39m)\n",
      "File \u001b[1;32mc:\\Users\\Diogo\\AppData\\Local\\Programs\\Python\\Python312\\Lib\\site-packages\\numpy\\linalg\\linalg.py:396\u001b[0m, in \u001b[0;36msolve\u001b[1;34m(a, b)\u001b[0m\n\u001b[0;32m    394\u001b[0m a, _ \u001b[38;5;241m=\u001b[39m _makearray(a)\n\u001b[0;32m    395\u001b[0m _assert_stacked_2d(a)\n\u001b[1;32m--> 396\u001b[0m \u001b[43m_assert_stacked_square\u001b[49m\u001b[43m(\u001b[49m\u001b[43ma\u001b[49m\u001b[43m)\u001b[49m\n\u001b[0;32m    397\u001b[0m b, wrap \u001b[38;5;241m=\u001b[39m _makearray(b)\n\u001b[0;32m    398\u001b[0m t, result_t \u001b[38;5;241m=\u001b[39m _commonType(a, b)\n",
      "File \u001b[1;32mc:\\Users\\Diogo\\AppData\\Local\\Programs\\Python\\Python312\\Lib\\site-packages\\numpy\\linalg\\linalg.py:213\u001b[0m, in \u001b[0;36m_assert_stacked_square\u001b[1;34m(*arrays)\u001b[0m\n\u001b[0;32m    211\u001b[0m m, n \u001b[38;5;241m=\u001b[39m a\u001b[38;5;241m.\u001b[39mshape[\u001b[38;5;241m-\u001b[39m\u001b[38;5;241m2\u001b[39m:]\n\u001b[0;32m    212\u001b[0m \u001b[38;5;28;01mif\u001b[39;00m m \u001b[38;5;241m!=\u001b[39m n:\n\u001b[1;32m--> 213\u001b[0m     \u001b[38;5;28;01mraise\u001b[39;00m LinAlgError(\u001b[38;5;124m'\u001b[39m\u001b[38;5;124mLast 2 dimensions of the array must be square\u001b[39m\u001b[38;5;124m'\u001b[39m)\n",
      "\u001b[1;31mLinAlgError\u001b[0m: Last 2 dimensions of the array must be square"
     ]
    }
   ],
   "source": [
    "import numpy as np\n",
    "\n",
    "# Definindo a matriz dos coeficientes do sistema homogêneo\n",
    "matriz_coeficientes_homogeneo = np.array([[0, 3, 7, 3, 8, 2],\n",
    "                                          [1, 1, 0, 0, 0, 0],\n",
    "                                          [0, 0, 1, 1, 0, 0],\n",
    "                                          [0, 0, 0, 0, 1, 1]])\n",
    "\n",
    "# Verificando se a matriz tem uma solução não trivial\n",
    "solucao_trivial = np.all(np.linalg.solve(matriz_coeficientes_homogeneo, np.zeros(matriz_coeficientes_homogeneo.shape[0])) == 0)\n",
    "\n",
    "if solucao_trivial:\n",
    "    print(\"A matriz dos coeficientes representa um sistema homogêneo.\")\n",
    "    print(\"O sistema homogêneo tem apenas a solução trivial, onde todas as incógnitas são zero.\")\n",
    "else:\n",
    "    print(\"A matriz dos coeficientes representa um sistema homogêneo, mas tem uma solução não trivial.\")\n"
   ]
  }
 ],
 "metadata": {
  "kernelspec": {
   "display_name": "Python 3",
   "language": "python",
   "name": "python3"
  },
  "language_info": {
   "codemirror_mode": {
    "name": "ipython",
    "version": 3
   },
   "file_extension": ".py",
   "mimetype": "text/x-python",
   "name": "python",
   "nbconvert_exporter": "python",
   "pygments_lexer": "ipython3",
   "version": "3.12.3"
  }
 },
 "nbformat": 4,
 "nbformat_minor": 2
}

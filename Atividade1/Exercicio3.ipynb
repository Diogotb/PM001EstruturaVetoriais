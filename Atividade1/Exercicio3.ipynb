{
 "cells": [
  {
   "cell_type": "code",
   "execution_count": 1,
   "metadata": {},
   "outputs": [
    {
     "name": "stdout",
     "output_type": "stream",
     "text": [
      "pivot\n",
      "1.0\n",
      "resultado pivotado\n",
      "[[1. 1. 0. 0. 0. 0.]\n",
      " [0. 3. 7. 3. 8. 2.]\n",
      " [0. 0. 1. 1. 0. 0.]\n",
      " [0. 0. 0. 0. 1. 1.]]\n",
      "pivot\n",
      "3.0\n",
      "resultado pivotado\n",
      "[[1.         1.         0.         0.         0.         0.        ]\n",
      " [0.         1.         2.33333333 1.         2.66666667 0.66666667]\n",
      " [0.         0.         1.         1.         0.         0.        ]\n",
      " [0.         0.         0.         0.         1.         1.        ]]\n",
      "pivot\n",
      "1.0\n",
      "resultado pivotado\n",
      "[[1.         1.         0.         0.         0.         0.        ]\n",
      " [0.         1.         2.33333333 1.         2.66666667 0.66666667]\n",
      " [0.         0.         1.         1.         0.         0.        ]\n",
      " [0.         0.         0.         0.         1.         1.        ]]\n",
      "pivot\n",
      "0.0\n",
      "resultado pivotado\n",
      "[[1.         1.         0.         0.         0.         0.        ]\n",
      " [0.         1.         2.33333333 1.         2.66666667 0.66666667]\n",
      " [0.         0.         1.         1.         0.         0.        ]\n",
      " [0.         0.         0.         0.         1.         1.        ]]\n",
      "Os resultados não coincidem.\n"
     ]
    }
   ],
   "source": [
    "import numpy as np\n",
    "\n",
    "# Definindo a matriz dada\n",
    "matriz = np.array([[0.0, 3.0, 7.0, 3.0, 8.0, 2.0],\n",
    "                   [1.0, 1.0, 0.0, 0.0, 0.0, 0.0],\n",
    "                   [0.0, 0.0, 1.0, 1.0, 0.0, 0.0],\n",
    "                   [0.0, 0.0, 0.0, 0.0, 1.0, 1.0]])\n",
    "\n",
    "def reduzir_matriz(matriz):\n",
    "    num_linhas, num_colunas = matriz.shape\n",
    "    for coluna_pivo in range(num_colunas):\n",
    "        # Verifica se há elementos na sequência antes de calcular o índice da linha do pivô\n",
    "        if coluna_pivo < num_linhas:\n",
    "            # Encontra o índice da linha com o maior elemento em valor absoluto na coluna do pivô\n",
    "            linha_pivo = np.argmax(matriz[coluna_pivo:, coluna_pivo]) + coluna_pivo\n",
    "\n",
    "            # Troca as linhas se necessário para colocar o pivô na linha corrente\n",
    "            if linha_pivo != coluna_pivo:\n",
    "                matriz[[linha_pivo, coluna_pivo]] = matriz[[coluna_pivo, linha_pivo]]\n",
    "\n",
    "            # Divide a linha do pivô pelo valor do pivô para torná-lo 1\n",
    "            pivot = matriz[coluna_pivo, coluna_pivo]\n",
    "            if pivot != 0:\n",
    "                matriz[coluna_pivo] = matriz[coluna_pivo] / pivot\n",
    "\n",
    "            # Subtrai múltiplos da linha do pivô das linhas abaixo para fazer os elementos abaixo do pivô iguais a zero\n",
    "            for linha in range(coluna_pivo + 1, num_linhas):\n",
    "                coeficiente = matriz[linha, coluna_pivo]\n",
    "                matriz[linha] -= coeficiente * matriz[coluna_pivo]\n",
    "            print(\"pivot\")\n",
    "            print(pivot)\n",
    "            print('resultado pivotado')\n",
    "            print(matriz)\n",
    "\n",
    "    return matriz\n",
    "\n",
    "# Escalonamento da matriz\n",
    "matriz_reduzida_manual = reduzir_matriz(matriz.copy())\n",
    "\n"
   ]
  }
 ],
 "metadata": {
  "kernelspec": {
   "display_name": "Python 3",
   "language": "python",
   "name": "python3"
  },
  "language_info": {
   "codemirror_mode": {
    "name": "ipython",
    "version": 3
   },
   "file_extension": ".py",
   "mimetype": "text/x-python",
   "name": "python",
   "nbconvert_exporter": "python",
   "pygments_lexer": "ipython3",
   "version": "3.12.3"
  }
 },
 "nbformat": 4,
 "nbformat_minor": 2
}

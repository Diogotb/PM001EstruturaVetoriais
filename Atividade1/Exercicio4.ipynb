{
 "cells": [
  {
   "cell_type": "code",
   "execution_count": 24,
   "metadata": {},
   "outputs": [
    {
     "name": "stdout",
     "output_type": "stream",
     "text": [
      "matriz de transiçao inicial\n",
      "[[0.7 0.2 0.2]\n",
      " [0.2 0.6 0.3]\n",
      " [0.1 0.2 0.5]]\n",
      "numero de meses\n",
      "12\n",
      "matriz de transiçao apos os meses\n",
      "[[0.40014648 0.39990234 0.39990234]\n",
      " [0.37135529 0.37147763 0.3714771 ]\n",
      " [0.22849822 0.22862003 0.22862056]]\n",
      "Market Share inicial\n",
      "O: 50.00%\n",
      "M: 20.00%\n",
      "Q: 30.00%\n",
      "Market Share após 12 meses:\n",
      "O: 34.29%\n",
      "M: 34.28%\n",
      "Q: 34.28%\n"
     ]
    }
   ],
   "source": [
    "import numpy as np\n",
    "\n",
    "def transicao_inicial():\n",
    "    # Definir a matriz de transição inicial\n",
    "    P = np.array([[0.7, 0.2, 0.2],\n",
    "                  [0.2, 0.6, 0.3],\n",
    "                  [0.1, 0.2, 0.5]])\n",
    "    return P\n",
    "\n",
    "def calcular_market_share(P, distribuicao_inicial, meses):\n",
    "    # Inicializar a distribuição de mercado com a distribuição inicial\n",
    "    market_share = distribuicao_inicial.copy()\n",
    "\n",
    "    # Calcular a matriz de transição elevada a n\n",
    "    P_n = np.linalg.matrix_power(P, meses)\n",
    "    print('matriz de transiçao inicial')\n",
    "    print(P)\n",
    "    print('numero de meses')\n",
    "    print(meses)\n",
    "    print('matriz de transiçao apos os meses')\n",
    "    print(P_n)\n",
    "    # Calcular o market share após n meses\n",
    "    market_share_final = np.dot(market_share, P_n)\n",
    "\n",
    "    return market_share_final\n",
    "\n",
    "\n",
    "# Calcular a matriz de transição inicial\n",
    "P = transicao_inicial()\n",
    "\n",
    "# Distribuição inicial de mercado\n",
    "distribuicao_inicial = np.array([0.5, 0.2, 0.3])\n",
    "\n",
    "# Número de meses\n",
    "meses = int(input(\"Digite o número de meses para calcular o market share: \"))\n",
    "\n",
    "# Calcular o market share após n meses\n",
    "market_share_final = calcular_market_share(P, distribuicao_inicial, meses)\n",
    "\n",
    "# Exibir o market share inicial\n",
    "print(f\"Market Share inicial\")\n",
    "for i, marca in enumerate(['O', 'M', 'Q']):\n",
    "    print(f\"{marca}: {distribuicao_inicial[i]*100:.2f}%\")\n",
    "# Exibir o market share final\n",
    "print(f\"Market Share após {meses} meses:\")\n",
    "for i, marca in enumerate(['O', 'M', 'Q']):\n",
    "    print(f\"{marca}: {market_share_final[i]*100:.2f}%\")\n",
    "\n",
    "\n"
   ]
  }
 ],
 "metadata": {
  "kernelspec": {
   "display_name": "Python 3",
   "language": "python",
   "name": "python3"
  },
  "language_info": {
   "codemirror_mode": {
    "name": "ipython",
    "version": 3
   },
   "file_extension": ".py",
   "mimetype": "text/x-python",
   "name": "python",
   "nbconvert_exporter": "python",
   "pygments_lexer": "ipython3",
   "version": "3.12.3"
  }
 },
 "nbformat": 4,
 "nbformat_minor": 2
}

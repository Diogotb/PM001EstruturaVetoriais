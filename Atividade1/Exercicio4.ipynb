{
 "cells": [
  {
   "cell_type": "code",
   "execution_count": 3,
   "metadata": {},
   "outputs": [
    {
     "name": "stdout",
     "output_type": "stream",
     "text": [
      "Simulação do mercado após 1 ano:\n"
     ]
    },
    {
     "ename": "UnboundLocalError",
     "evalue": "cannot access local variable 'mudar_para_O' where it is not associated with a value",
     "output_type": "error",
     "traceback": [
      "\u001b[1;31m---------------------------------------------------------------------------\u001b[0m",
      "\u001b[1;31mUnboundLocalError\u001b[0m                         Traceback (most recent call last)",
      "Cell \u001b[1;32mIn[3], line 56\u001b[0m\n\u001b[0;32m     54\u001b[0m \u001b[38;5;66;03m# Simulando o mercado por 12 meses (1 ano)\u001b[39;00m\n\u001b[0;32m     55\u001b[0m \u001b[38;5;28mprint\u001b[39m(\u001b[38;5;124m\"\u001b[39m\u001b[38;5;124mSimulação do mercado após 1 ano:\u001b[39m\u001b[38;5;124m\"\u001b[39m)\n\u001b[1;32m---> 56\u001b[0m \u001b[43msimular_mercado\u001b[49m\u001b[43m(\u001b[49m\u001b[43mmarcas\u001b[49m\u001b[43m,\u001b[49m\u001b[43m \u001b[49m\u001b[38;5;241;43m12\u001b[39;49m\u001b[43m)\u001b[49m\n\u001b[0;32m     58\u001b[0m \u001b[38;5;66;03m# Simulando o mercado por mais 12 meses (2 anos)\u001b[39;00m\n\u001b[0;32m     59\u001b[0m \u001b[38;5;28mprint\u001b[39m(\u001b[38;5;124m\"\u001b[39m\u001b[38;5;130;01m\\n\u001b[39;00m\u001b[38;5;124mSimulação do mercado após 2 anos:\u001b[39m\u001b[38;5;124m\"\u001b[39m)\n",
      "Cell \u001b[1;32mIn[3], line 20\u001b[0m, in \u001b[0;36msimular_mercado\u001b[1;34m(marcas, meses)\u001b[0m\n\u001b[0;32m     18\u001b[0m mudar_para_Q \u001b[38;5;241m=\u001b[39m \u001b[38;5;241m0.1\u001b[39m\n\u001b[0;32m     19\u001b[0m fiel \u001b[38;5;241m=\u001b[39m marca\u001b[38;5;241m.\u001b[39mclientes \u001b[38;5;241m*\u001b[39m fiel_para\n\u001b[1;32m---> 20\u001b[0m mudar_para_O \u001b[38;5;241m=\u001b[39m marca\u001b[38;5;241m.\u001b[39mclientes \u001b[38;5;241m*\u001b[39m \u001b[43mmudar_para_O\u001b[49m  \u001b[38;5;66;03m# Erro aqui, deve ser mudar_para_O = marca.clientes * mudar_para_O\u001b[39;00m\n\u001b[0;32m     21\u001b[0m mudar_para_M \u001b[38;5;241m=\u001b[39m marca\u001b[38;5;241m.\u001b[39mclientes \u001b[38;5;241m*\u001b[39m mudar_para_M\n\u001b[0;32m     22\u001b[0m mudar_para_Q \u001b[38;5;241m=\u001b[39m marca\u001b[38;5;241m.\u001b[39mclientes \u001b[38;5;241m*\u001b[39m mudar_para_Q\n",
      "\u001b[1;31mUnboundLocalError\u001b[0m: cannot access local variable 'mudar_para_O' where it is not associated with a value"
     ]
    }
   ],
   "source": [
    "class Marca:\n",
    "    def __init__(self, nome, porcentagem_inicial):\n",
    "        self.nome = nome\n",
    "        self.clientes = porcentagem_inicial\n",
    "        self.fieis = porcentagem_inicial\n",
    "\n",
    "    def atualizar_clientes(self, fiel_para, mudar_para):\n",
    "        self.clientes = self.fieis * fiel_para + (1 - self.fieis) * mudar_para\n",
    "\n",
    "\n",
    "def simular_mercado(marcas, meses):\n",
    "    for mes in range(meses):\n",
    "        # Atualização das proporções de clientes\n",
    "        for marca in marcas:\n",
    "            if marca.nome == 'O':\n",
    "                fiel_para = 0.7\n",
    "                mudar_para_M = 0.2\n",
    "                mudar_para_Q = 0.1\n",
    "                fiel = marca.clientes * fiel_para\n",
    "                mudar_para_O = marca.clientes * mudar_para_O  # Erro aqui, deve ser mudar_para_O = marca.clientes * mudar_para_O\n",
    "                mudar_para_M = marca.clientes * mudar_para_M\n",
    "                mudar_para_Q = marca.clientes * mudar_para_Q\n",
    "            elif marca.nome == 'M':\n",
    "                fiel_para = 0.6\n",
    "                mudar_para_O = 0.2\n",
    "                mudar_para_Q = 0.2\n",
    "                fiel = marca.clientes * fiel_para\n",
    "                mudar_para_O = marca.clientes * mudar_para_O\n",
    "                mudar_para_M = marca.clientes * mudar_para_M\n",
    "                mudar_para_Q = marca.clientes * mudar_para_Q\n",
    "            elif marca.nome == 'Q':\n",
    "                fiel_para = 0.5\n",
    "                mudar_para_O = 0.2\n",
    "                mudar_para_M = 0.3\n",
    "                fiel = marca.clientes * fiel_para\n",
    "                mudar_para_O = marca.clientes * mudar_para_O\n",
    "                mudar_para_M = marca.clientes * mudar_para_M\n",
    "                mudar_para_Q = marca.clientes * mudar_para_Q\n",
    "\n",
    "            marca.atualizar_clientes(fiel_para, mudar_para_O + mudar_para_M + mudar_para_Q)\n",
    "\n",
    "        # Imprime o estado do mercado no final de cada mês\n",
    "        print(f\"Após o mês {mes + 1}:\")\n",
    "        for marca in marcas:\n",
    "            print(f\"{marca.nome}: {marca.clientes * 100:.2f}%\")\n",
    "\n",
    "# Definindo as marcas e suas porcentagens iniciais\n",
    "marcas = [\n",
    "    Marca('O', 0.4),\n",
    "    Marca('M', 0.2),\n",
    "    Marca('Q', 0.4)\n",
    "]\n",
    "\n",
    "# Simulando o mercado por 12 meses (1 ano)\n",
    "print(\"Simulação do mercado após 1 ano:\")\n",
    "simular_mercado(marcas, 12)\n",
    "\n",
    "# Simulando o mercado por mais 12 meses (2 anos)\n",
    "print(\"\\nSimulação do mercado após 2 anos:\")\n",
    "simular_mercado(marcas, 12)\n"
   ]
  }
 ],
 "metadata": {
  "kernelspec": {
   "display_name": "Python 3",
   "language": "python",
   "name": "python3"
  },
  "language_info": {
   "codemirror_mode": {
    "name": "ipython",
    "version": 3
   },
   "file_extension": ".py",
   "mimetype": "text/x-python",
   "name": "python",
   "nbconvert_exporter": "python",
   "pygments_lexer": "ipython3",
   "version": "3.12.3"
  }
 },
 "nbformat": 4,
 "nbformat_minor": 2
}

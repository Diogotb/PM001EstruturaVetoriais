{
 "cells": [
  {
   "cell_type": "code",
   "execution_count": 2,
   "metadata": {},
   "outputs": [
    {
     "name": "stdout",
     "output_type": "stream",
     "text": [
      "Matriz de exemplo:\n",
      "[1, 2, 3]\n",
      "[4, 5, 6]\n",
      "[7, 8, 9]\n",
      "Submatriz\n",
      "[[5, 6], [8, 9]]\n",
      "Submatriz\n",
      "[[4, 6], [7, 9]]\n",
      "Submatriz\n",
      "[[4, 5], [7, 8]]\n",
      "Determinante: 0\n"
     ]
    }
   ],
   "source": [
    "def cofator(matriz, linha, coluna):\n",
    "    \"\"\"Calcula o cofator de um elemento da matriz.\"\"\"\n",
    "    submatriz = [row[:coluna] + row[coluna+1:] for row in (matriz[:linha] + matriz[linha+1:])]\n",
    "    print('Submatriz')\n",
    "    print(submatriz)\n",
    "    return (-1) ** (linha + coluna) * determinante(submatriz)\n",
    "\n",
    "def determinante(matriz):\n",
    "    \"\"\"Calcula o determinante de uma matriz.\"\"\"\n",
    "    if len(matriz) == 1:  # Caso base para matriz 1x1\n",
    "        return matriz[0][0]\n",
    "    elif len(matriz) == 2:  # Caso base para matriz 2x2\n",
    "        return matriz[0][0] * matriz[1][1] - matriz[0][1] * matriz[1][0]\n",
    "    else:\n",
    "        det = 0\n",
    "        for j in range(len(matriz)):\n",
    "            det += matriz[0][j] * cofator(matriz, 0, j)\n",
    "        return det\n",
    "\n",
    "# Exemplo de uso\n",
    "matriz_exemplo = [\n",
    "    [1, 2, 3,4],\n",
    "    [4, 5, 6],\n",
    "    [7, 8, 9]\n",
    "]\n",
    "\n",
    "print(\"Matriz de exemplo:\")\n",
    "for linha in matriz_exemplo:\n",
    "    print(linha)\n",
    "\n",
    "print(\"Determinante:\", determinante(matriz_exemplo))\n"
   ]
  },
  {
   "cell_type": "code",
   "execution_count": 3,
   "metadata": {},
   "outputs": [
    {
     "name": "stdout",
     "output_type": "stream",
     "text": [
      "Matriz de exemplo:\n",
      "[1, 2, 3, 4]\n",
      "[5, 6, 7, 8]\n",
      "[9, 10, 11, 12]\n",
      "[13, 14, 15, 16]\n",
      "Submatriz\n",
      "[[6, 7, 8], [10, 11, 12], [14, 15, 16]]\n",
      "Submatriz\n",
      "[[11, 12], [15, 16]]\n",
      "Submatriz\n",
      "[[10, 12], [14, 16]]\n",
      "Submatriz\n",
      "[[10, 11], [14, 15]]\n",
      "Submatriz\n",
      "[[5, 7, 8], [9, 11, 12], [13, 15, 16]]\n",
      "Submatriz\n",
      "[[11, 12], [15, 16]]\n",
      "Submatriz\n",
      "[[9, 12], [13, 16]]\n",
      "Submatriz\n",
      "[[9, 11], [13, 15]]\n",
      "Submatriz\n",
      "[[5, 6, 8], [9, 10, 12], [13, 14, 16]]\n",
      "Submatriz\n",
      "[[10, 12], [14, 16]]\n",
      "Submatriz\n",
      "[[9, 12], [13, 16]]\n",
      "Submatriz\n",
      "[[9, 10], [13, 14]]\n",
      "Submatriz\n",
      "[[5, 6, 7], [9, 10, 11], [13, 14, 15]]\n",
      "Submatriz\n",
      "[[10, 11], [14, 15]]\n",
      "Submatriz\n",
      "[[9, 11], [13, 15]]\n",
      "Submatriz\n",
      "[[9, 10], [13, 14]]\n",
      "Determinante: 0\n"
     ]
    }
   ],
   "source": [
    "# Exemplo de uso\n",
    "matriz_exemplo = [\n",
    "    [1, 2, 3, 4],\n",
    "    [5, 6, 7, 8],\n",
    "    [9, 10, 11, 12],\n",
    "    [13, 14, 15, 16]\n",
    "]\n",
    "print(\"Matriz de exemplo:\")\n",
    "for linha in matriz_exemplo:\n",
    "    print(linha)\n",
    "\n",
    "print(\"Determinante:\", determinante(matriz_exemplo))\n"
   ]
  }
 ],
 "metadata": {
  "kernelspec": {
   "display_name": "Python 3",
   "language": "python",
   "name": "python3"
  },
  "language_info": {
   "codemirror_mode": {
    "name": "ipython",
    "version": 3
   },
   "file_extension": ".py",
   "mimetype": "text/x-python",
   "name": "python",
   "nbconvert_exporter": "python",
   "pygments_lexer": "ipython3",
   "version": "3.12.3"
  }
 },
 "nbformat": 4,
 "nbformat_minor": 2
}

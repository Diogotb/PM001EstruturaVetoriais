{
 "cells": [
  {
   "cell_type": "markdown",
   "metadata": {},
   "source": [
    "Solução de um Sistema Linear forma Bruta"
   ]
  },
  {
   "cell_type": "code",
   "execution_count": 17,
   "metadata": {},
   "outputs": [
    {
     "name": "stdout",
     "output_type": "stream",
     "text": [
      "Todas as possíveis soluções para o problema:\n",
      "(0, 40, 10)\n",
      "(1, 38, 11)\n",
      "(2, 36, 12)\n",
      "(3, 34, 13)\n",
      "(4, 32, 14)\n",
      "(5, 30, 15)\n",
      "(6, 28, 16)\n",
      "(7, 26, 17)\n",
      "(8, 24, 18)\n",
      "(9, 22, 19)\n",
      "(10, 20, 20)\n",
      "(11, 18, 21)\n",
      "(12, 16, 22)\n",
      "(13, 14, 23)\n",
      "(14, 12, 24)\n",
      "(15, 10, 25)\n",
      "(16, 8, 26)\n",
      "(17, 6, 27)\n",
      "(18, 4, 28)\n",
      "(19, 2, 29)\n",
      "(20, 0, 30)\n"
     ]
    }
   ],
   "source": [
    "# Coeficientes das equações\n",
    "coeficientes = {\n",
    "    'I': [100, 50, 0],\n",
    "    'II': [30, 30, 30],\n",
    "    'III': [230, 130, 30]\n",
    "}\n",
    "\n",
    "# Lado direito das equações\n",
    "lado_direito = {\n",
    "    'A': 2000,\n",
    "    'B': 1500,\n",
    "    'C': 5500\n",
    "}\n",
    "\n",
    "# Intervalo de valores para xi (número de caminhões)\n",
    "intervalo_xi = range(0, 201)  # Podemos ajustar conforme necessário\n",
    "\n",
    "# Lista para armazenar as soluções\n",
    "solucoes = []\n",
    "\n",
    "# Iterar sobre todas as combinações de valores para xi\n",
    "for x1 in intervalo_xi:\n",
    "    for x2 in intervalo_xi:\n",
    "        for x3 in intervalo_xi:\n",
    "            # Verificar se a combinação satisfaz todas as equações\n",
    "            if (coeficientes['I'][0]*x1 + coeficientes['I'][1]*x2 + coeficientes['I'][2]*x3 == lado_direito['A'] and\n",
    "                coeficientes['II'][0]*x1 + coeficientes['II'][1]*x2 + coeficientes['II'][2]*x3 == lado_direito['B'] and\n",
    "                coeficientes['III'][0]*x1 + coeficientes['III'][1]*x2 + coeficientes['III'][2]*x3 == lado_direito['C']):\n",
    "                solucoes.append((x1, x2, x3))\n",
    "\n",
    "# Imprimir todas as possíveis soluções\n",
    "print(\"Todas as possíveis soluções para o problema:\")\n",
    "for solucao in solucoes:\n",
    "    print(solucao)\n"
   ]
  },
  {
   "cell_type": "markdown",
   "metadata": {},
   "source": [
    "Solução utilizando uam bliblioteca numpy"
   ]
  },
  {
   "cell_type": "code",
   "execution_count": null,
   "metadata": {},
   "outputs": [],
   "source": [
    "import numpy as np\n",
    "\n",
    "# Coeficientes das equações\n",
    "A = np.array([[100, 50, 0],\n",
    "              [30, 30, 30],\n",
    "              [230, 130, 30]])\n",
    "\n",
    "# Lado direito das equações\n",
    "B = np.array([2000, 1500, 5500])\n",
    "\n",
    "# Resolver o sistema de equações\n",
    "X = np.linalg.solve(A, B)\n",
    "\n",
    "# Arredondar as soluções para números inteiros\n",
    "X_int = np.round(X).astype(int)\n",
    "\n",
    "print(\"Número de caminhões de cada tipo:\")\n",
    "print(\"Tipo I:\", X_int[0])\n",
    "print(\"Tipo II:\", X_int[1])\n",
    "print(\"Tipo III:\", X_int[2])"
   ]
  },
  {
   "cell_type": "markdown",
   "metadata": {},
   "source": []
  },
  {
   "cell_type": "code",
   "execution_count": 21,
   "metadata": {},
   "outputs": [
    {
     "name": "stdout",
     "output_type": "stream",
     "text": [
      "Todas as possíveis soluções para valores inteiros e positivos de x1, x2 e x3:\n",
      "(0, 40, 10)\n",
      "(1, 38, 11)\n",
      "(2, 36, 12)\n",
      "(3, 34, 13)\n",
      "(4, 32, 14)\n",
      "(5, 30, 15)\n",
      "(6, 28, 16)\n",
      "(7, 26, 17)\n",
      "(8, 24, 18)\n",
      "(9, 22, 19)\n",
      "(10, 20, 20)\n",
      "(11, 18, 21)\n",
      "(12, 16, 22)\n",
      "(13, 14, 23)\n",
      "(14, 12, 24)\n",
      "(15, 10, 25)\n",
      "(16, 8, 26)\n",
      "(17, 6, 27)\n",
      "(18, 4, 28)\n",
      "(19, 2, 29)\n",
      "(20, 0, 30)\n"
     ]
    }
   ],
   "source": [
    "import numpy as np\n",
    "\n",
    "# Coeficientes das equações\n",
    "A = np.array([[100, 50, 0],\n",
    "              [30, 30, 30],\n",
    "              [230, 130, 30]])\n",
    "\n",
    "# Lado direito das equações\n",
    "B = np.array([2000, 1500, 5500])\n",
    "\n",
    "# Encontrar os limites para x1, x2 e x3\n",
    "x1_limit = B[0] // A[0][0] + 1  # O limite superior é dado pelo quociente da divisão de B por A[0][0], mais 1\n",
    "x2_limit = B[1] // A[1][1] + 1\n",
    "x3_limit = B[2] // A[2][2] + 1\n",
    "\n",
    "# Lista para armazenar as soluções\n",
    "solucoes = []\n",
    "\n",
    "# Loop para gerar todas as combinações possíveis de valores inteiros e positivos para x1, x2 e x3\n",
    "for x1 in range(x1_limit):\n",
    "    for x2 in range(x2_limit):\n",
    "        for x3 in range(x3_limit):\n",
    "            # Verificar se a combinação satisfaz todas as equações\n",
    "            if (A[0][0]*x1 + A[0][1]*x2 + A[0][2]*x3 == B[0] and\n",
    "                A[1][0]*x1 + A[1][1]*x2 + A[1][2]*x3 == B[1] and\n",
    "                A[2][0]*x1 + A[2][1]*x2 + A[2][2]*x3 == B[2]):\n",
    "                solucoes.append((x1, x2, x3))\n",
    "\n",
    "# Imprimir todas as soluções encontradas\n",
    "print(\"Todas as possíveis soluções para valores inteiros e positivos de x1, x2 e x3:\")\n",
    "for solucao in solucoes:\n",
    "    print(solucao)\n"
   ]
  },
  {
   "cell_type": "markdown",
   "metadata": {},
   "source": [
    "1)Modifique a questão 1 da lista de Matrizes afim de que:\n",
    "i) Os números de caixas do tipo B transportadas por cada caminhão sejam sempre múltiplo do maior dígito do seu RA.\n",
    "ii) O seu problema tenha um conjunto finito mas com mais do que uma solução.\n",
    "iii) Ilustre no computador a solução geral do sistema linear associado (infinitas soluções) e as soluções do seu problema ."
   ]
  },
  {
   "cell_type": "code",
   "execution_count": 28,
   "metadata": {},
   "outputs": [
    {
     "name": "stdout",
     "output_type": "stream",
     "text": [
      "Todas as possíveis soluções para o problema ajustado:\n"
     ]
    }
   ],
   "source": [
    "import numpy as np\n",
    "\n",
    "# Coeficientes das equações\n",
    "A = np.array([[100, 50, 0],\n",
    "              [30, 30, 30],\n",
    "              [230, 130, 30]])\n",
    "\n",
    "# Lado direito das equações\n",
    "B = np.array([2000, 0, 5500])\n",
    "\n",
    "# Encontrar os limites para x1, x2 e x3\n",
    "x1_limit = B[0] // A[0][0] + 1  # O limite superior é dado pelo quociente da divisão de B por A[0][0], mais 1\n",
    "x2_limit = B[1] // A[1][1] + 1\n",
    "x3_limit = B[2] // A[2][2] + 1\n",
    "\n",
    "# Lista para armazenar as soluções\n",
    "solucoes = []\n",
    "\n",
    "# Iterar sobre diferentes valores de M para encontrar soluções\n",
    "for M in range(1, 1000):  # Podemos ajustar o intervalo conforme necessário\n",
    "    B[1] = 8 * M  # Atualizar o valor de B para o novo valor de M\n",
    "    # Loop para gerar todas as combinações possíveis de valores inteiros e positivos para x1, x2 e x3\n",
    "    for x1 in range(x1_limit):\n",
    "        for x2 in range(x2_limit):\n",
    "            for x3 in range(x3_limit):\n",
    "                # Verificar se a combinação satisfaz todas as equações\n",
    "                if (A[0][0]*x1 + A[0][1]*x2 + A[0][2]*x3 == B[0] and\n",
    "                    A[1][0]*x1 + A[1][1]*x2 + A[1][2]*x3 == B[1] and\n",
    "                    A[2][0]*x1 + A[2][1]*x2 + A[2][2]*x3 == B[2]):\n",
    "                    solucoes.append((x1, x2, x3))\n",
    "\n",
    "# Imprimir todas as soluções encontradas\n",
    "print(\"Todas as possíveis soluções para o problema ajustado:\")\n",
    "for solucao in solucoes:\n",
    "    print(solucao)\n"
   ]
  },
  {
   "cell_type": "code",
   "execution_count": 26,
   "metadata": {},
   "outputs": [
    {
     "name": "stdout",
     "output_type": "stream",
     "text": [
      "Todas as possíveis soluções para o problema ajustado:\n"
     ]
    }
   ],
   "source": [
    "import numpy as np\n",
    "\n",
    "# Coeficientes das equações\n",
    "A = np.array([[100, 50, 0],\n",
    "              [30, 30, 30],\n",
    "              [230, 130, 30]])\n",
    "\n",
    "# Lista para armazenar as soluções\n",
    "solucoes = []\n",
    "\n",
    "# Iterar sobre diferentes valores de M para encontrar soluções\n",
    "for M in range(1, 10):  # Podemos ajustar o intervalo conforme necessário\n",
    "    B = np.array([2000, 8 * M, 5500])\n",
    "    try:\n",
    "        # Resolver o sistema de equações\n",
    "        X = np.linalg.solve(A, B)\n",
    "        # Verificar se as soluções são inteiros positivos\n",
    "        if all(X >= 0) and all(X.astype(int) == X):\n",
    "            solucoes.append(X.astype(int))\n",
    "    except np.linalg.LinAlgError:\n",
    "        # Caso o sistema seja singular para o valor de M, continue para o próximo valor\n",
    "        continue\n",
    "\n",
    "# Imprimir todas as soluções encontradas\n",
    "print(\"Todas as possíveis soluções para o problema ajustado:\")\n",
    "for solucao in solucoes:\n",
    "    print(solucao)\n"
   ]
  }
 ],
 "metadata": {
  "kernelspec": {
   "display_name": "Python 3",
   "language": "python",
   "name": "python3"
  },
  "language_info": {
   "codemirror_mode": {
    "name": "ipython",
    "version": 3
   },
   "file_extension": ".py",
   "mimetype": "text/x-python",
   "name": "python",
   "nbconvert_exporter": "python",
   "pygments_lexer": "ipython3",
   "version": "3.12.3"
  }
 },
 "nbformat": 4,
 "nbformat_minor": 2
}

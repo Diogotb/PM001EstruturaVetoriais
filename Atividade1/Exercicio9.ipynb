{
 "cells": [
  {
   "cell_type": "markdown",
   "metadata": {},
   "source": [
    "Suponha que um banco oferece cinco tipos de investimentos para seus clientes: conservador (C), moderado (M), arrojado (A), agressivo (AG) e ultra-agressivo (UA). A cada mês, um cliente pode manter seu investimento atual ou trocar para outro tipo de investimento, de acordo com as seguintes probabilidades de transição:\n",
    "\n",
    "Um cliente conservador tem 80% de chance de permanecer conservador, 10% de chance de mudar para um investimento moderado, 5% de chance de mudar para um investimento arrojado, 3% de chance de mudar para um investimento agressivo e 2% de chance de mudar para um investimento ultra-agressivo.\n",
    "Um cliente moderado tem 70% de chance de permanecer moderado, 15% de chance de mudar para um investimento conservador, 10% de chance de mudar para um investimento arrojado, 3% de chance de mudar para um investimento agressivo e 2% de chance de mudar para um investimento ultra-agressivo.\n",
    "Um cliente arrojado tem 60% de chance de permanecer arrojado, 15% de chance de mudar para um investimento conservador, 10% de chance de mudar para um investimento moderado, 10% de chance de mudar para um investimento agressivo e 5% de chance de mudar para um investimento ultra-agressivo.\n",
    "Um cliente agressivo tem 50% de chance de permanecer agressivo, 20% de chance de mudar para um investimento conservador, 10% de chance de mudar para um investimento moderado, 10% de chance de mudar para um investimento arrojado e 10% de chance de mudar para um investimento ultra-agressivo.\n",
    "Um cliente ultra-agressivo tem 40% de chance de permanecer ultra-agressivo, 20% de chance de mudar para um investimento conservador, 15% de chance de mudar para um investimento moderado, 15% de chance de mudar para um investimento arrojado e 10% de chance de mudar para um investimento agressivo.\n",
    "O problema consiste em determinar a distribuição dos clientes entre os cinco tipos de investimento após um certo número de meses e calcular o market share de cada tipo de investimento.\n",
    "\n",
    "Agora vamos desenvolver a solução matemática e implementar em Python.\n"
   ]
  },
  {
   "cell_type": "code",
   "execution_count": 5,
   "metadata": {},
   "outputs": [
    {
     "name": "stdout",
     "output_type": "stream",
     "text": [
      "matriz de transiçao inicial\n",
      "[[0.8  0.1  0.05 0.03 0.02]\n",
      " [0.15 0.7  0.1  0.03 0.02]\n",
      " [0.15 0.1  0.6  0.1  0.05]\n",
      " [0.2  0.1  0.1  0.5  0.1 ]\n",
      " [0.2  0.15 0.15 0.1  0.4 ]]\n",
      "numero de meses\n",
      "24\n",
      "matriz de transiçao apos os meses\n",
      "[[0.44792712 0.25636232 0.16029582 0.08449816 0.05091658]\n",
      " [0.44790395 0.25636885 0.16030515 0.08450295 0.0509191 ]\n",
      " [0.44791126 0.25636484 0.16030284 0.08450228 0.05091878]\n",
      " [0.44791509 0.25636445 0.16030107 0.08450119 0.0509182 ]\n",
      " [0.44791286 0.25636521 0.16030193 0.08450159 0.0509184 ]]\n",
      "Market Share inicial\n",
      "Conservador: 20.00%\n",
      "Moderado: 20.00%\n",
      "Arrojado: 20.00%\n",
      "Agressivo: 20.00%\n",
      "Ultra-agressivo: 20.00%\n",
      "Market Share após 24 meses:\n",
      "Conservador: 44.79%\n",
      "Moderado: 25.64%\n",
      "Arrojado: 16.03%\n",
      "Agressivo: 8.45%\n",
      "Ultra-agressivo: 5.09%\n"
     ]
    }
   ],
   "source": [
    "import numpy as np\n",
    "\n",
    "def transicao_inicial():\n",
    "    # Definir a matriz de transição inicial\n",
    "    P = np.array([[0.8, 0.1, 0.05, 0.03, 0.02],\n",
    "                  [0.15, 0.7, 0.1, 0.03, 0.02],\n",
    "                  [0.15, 0.1, 0.6, 0.1, 0.05],\n",
    "                  [0.2, 0.1, 0.1, 0.5, 0.1],\n",
    "                  [0.2, 0.15, 0.15, 0.1, 0.4]])\n",
    "    return P\n",
    "\n",
    "def calcular_market_share(P, distribuicao_inicial, meses):\n",
    "    # Inicializar a distribuição de mercado com a distribuição inicial\n",
    "    market_share = distribuicao_inicial.copy()\n",
    "\n",
    "    # Calcular a matriz de transição elevada a n\n",
    "    P_n = np.linalg.matrix_power(P, meses)\n",
    "    print('matriz de transiçao inicial')\n",
    "    print(P)\n",
    "    print('numero de meses')\n",
    "    print(meses)\n",
    "    print('matriz de transiçao apos os meses')\n",
    "    print(P_n)\n",
    "    # Calcular o market share após n meses\n",
    "    market_share_final = np.dot(market_share, P_n)\n",
    "\n",
    "    return market_share_final\n",
    "\n",
    "\n",
    "# Calcular a matriz de transição inicial\n",
    "P = transicao_inicial()\n",
    "\n",
    "# Distribuição inicial de mercado\n",
    "distribuicao_inicial = np.array([0.2, 0.2, 0.2, 0.2, 0.2])\n",
    "\n",
    "# Número de meses\n",
    "meses = int(input(\"Digite o número de meses para calcular o market share: \"))\n",
    "\n",
    "# Calcular o market share após n meses\n",
    "market_share_final = calcular_market_share(P, distribuicao_inicial, meses)\n",
    "\n",
    "tipos_investimento = ['Conservador', 'Moderado', 'Arrojado', 'Agressivo', 'Ultra-agressivo']\n",
    "# Exibir o market share inicial\n",
    "print(\"Market Share inicial\")\n",
    "for i, tipo in enumerate(tipos_investimento):\n",
    "        print(f\"{tipo}: {distribuicao_inicial[i]*100:.2f}%\")\n",
    "print(f\"Market Share após {meses} meses:\")\n",
    "\n",
    "\n",
    "for i, tipo in enumerate(tipos_investimento):\n",
    "        print(f\"{tipo}: {market_share_final[i]*100:.2f}%\")\n"
   ]
  }
 ],
 "metadata": {
  "kernelspec": {
   "display_name": "Python 3",
   "language": "python",
   "name": "python3"
  },
  "language_info": {
   "codemirror_mode": {
    "name": "ipython",
    "version": 3
   },
   "file_extension": ".py",
   "mimetype": "text/x-python",
   "name": "python",
   "nbconvert_exporter": "python",
   "pygments_lexer": "ipython3",
   "version": "3.12.3"
  }
 },
 "nbformat": 4,
 "nbformat_minor": 2
}

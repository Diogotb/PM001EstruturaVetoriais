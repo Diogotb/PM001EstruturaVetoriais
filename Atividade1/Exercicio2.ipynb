{
 "cells": [
  {
   "cell_type": "code",
   "execution_count": 4,
   "metadata": {},
   "outputs": [
    {
     "ename": "LinAlgError",
     "evalue": "Singular matrix",
     "output_type": "error",
     "traceback": [
      "\u001b[1;31m---------------------------------------------------------------------------\u001b[0m",
      "\u001b[1;31mLinAlgError\u001b[0m                               Traceback (most recent call last)",
      "Cell \u001b[1;32mIn[4], line 15\u001b[0m\n\u001b[0;32m     12\u001b[0m     \u001b[38;5;28mprint\u001b[39m(\u001b[38;5;124m\"\u001b[39m\u001b[38;5;124mA matriz dos coeficientes é singular. O sistema não tem solução única.\u001b[39m\u001b[38;5;124m\"\u001b[39m)\n\u001b[0;32m     13\u001b[0m \u001b[38;5;28;01melse\u001b[39;00m:\n\u001b[0;32m     14\u001b[0m     \u001b[38;5;66;03m# Resolvendo o sistema de equações\u001b[39;00m\n\u001b[1;32m---> 15\u001b[0m     solucao \u001b[38;5;241m=\u001b[39m \u001b[43mnp\u001b[49m\u001b[38;5;241;43m.\u001b[39;49m\u001b[43mlinalg\u001b[49m\u001b[38;5;241;43m.\u001b[39;49m\u001b[43msolve\u001b[49m\u001b[43m(\u001b[49m\u001b[43mcoeficientes\u001b[49m\u001b[43m,\u001b[49m\u001b[43m \u001b[49m\u001b[43mresultados\u001b[49m\u001b[43m)\u001b[49m\n\u001b[0;32m     17\u001b[0m     \u001b[38;5;28mprint\u001b[39m(\u001b[38;5;124m\"\u001b[39m\u001b[38;5;124mSolução:\u001b[39m\u001b[38;5;124m\"\u001b[39m)\n\u001b[0;32m     18\u001b[0m     \u001b[38;5;28mprint\u001b[39m(\u001b[38;5;124m\"\u001b[39m\u001b[38;5;124mx =\u001b[39m\u001b[38;5;124m\"\u001b[39m, solucao[\u001b[38;5;241m0\u001b[39m])\n",
      "File \u001b[1;32mc:\\Users\\Diogo\\AppData\\Local\\Programs\\Python\\Python312\\Lib\\site-packages\\numpy\\linalg\\linalg.py:409\u001b[0m, in \u001b[0;36msolve\u001b[1;34m(a, b)\u001b[0m\n\u001b[0;32m    407\u001b[0m signature \u001b[38;5;241m=\u001b[39m \u001b[38;5;124m'\u001b[39m\u001b[38;5;124mDD->D\u001b[39m\u001b[38;5;124m'\u001b[39m \u001b[38;5;28;01mif\u001b[39;00m isComplexType(t) \u001b[38;5;28;01melse\u001b[39;00m \u001b[38;5;124m'\u001b[39m\u001b[38;5;124mdd->d\u001b[39m\u001b[38;5;124m'\u001b[39m\n\u001b[0;32m    408\u001b[0m extobj \u001b[38;5;241m=\u001b[39m get_linalg_error_extobj(_raise_linalgerror_singular)\n\u001b[1;32m--> 409\u001b[0m r \u001b[38;5;241m=\u001b[39m \u001b[43mgufunc\u001b[49m\u001b[43m(\u001b[49m\u001b[43ma\u001b[49m\u001b[43m,\u001b[49m\u001b[43m \u001b[49m\u001b[43mb\u001b[49m\u001b[43m,\u001b[49m\u001b[43m \u001b[49m\u001b[43msignature\u001b[49m\u001b[38;5;241;43m=\u001b[39;49m\u001b[43msignature\u001b[49m\u001b[43m,\u001b[49m\u001b[43m \u001b[49m\u001b[43mextobj\u001b[49m\u001b[38;5;241;43m=\u001b[39;49m\u001b[43mextobj\u001b[49m\u001b[43m)\u001b[49m\n\u001b[0;32m    411\u001b[0m \u001b[38;5;28;01mreturn\u001b[39;00m wrap(r\u001b[38;5;241m.\u001b[39mastype(result_t, copy\u001b[38;5;241m=\u001b[39m\u001b[38;5;28;01mFalse\u001b[39;00m))\n",
      "File \u001b[1;32mc:\\Users\\Diogo\\AppData\\Local\\Programs\\Python\\Python312\\Lib\\site-packages\\numpy\\linalg\\linalg.py:112\u001b[0m, in \u001b[0;36m_raise_linalgerror_singular\u001b[1;34m(err, flag)\u001b[0m\n\u001b[0;32m    111\u001b[0m \u001b[38;5;28;01mdef\u001b[39;00m \u001b[38;5;21m_raise_linalgerror_singular\u001b[39m(err, flag):\n\u001b[1;32m--> 112\u001b[0m     \u001b[38;5;28;01mraise\u001b[39;00m LinAlgError(\u001b[38;5;124m\"\u001b[39m\u001b[38;5;124mSingular matrix\u001b[39m\u001b[38;5;124m\"\u001b[39m)\n",
      "\u001b[1;31mLinAlgError\u001b[0m: Singular matrix"
     ]
    }
   ],
   "source": [
    "import numpy as np\n",
    "\n",
    "# Definindo os coeficientes do sistema de equações\n",
    "coeficientes = np.array([[1, 0, 1],\n",
    "                         [1, 1, 1],\n",
    "                         [0, 1, 0]])\n",
    "\n",
    "# Definindo os resultados das equações\n",
    "resultados = np.array([1, 3, 2])\n",
    "\n",
    "# Verificando se a matriz dos coeficientes é singular\n",
    "if np.linalg.matrix_rank(coeficientes) != np.linalg.matrix_rank(np.column_stack((coeficientes, resultados))):\n",
    "    print(\"A matriz dos coeficientes é singular. O sistema não tem solução única.\")\n",
    "else:\n",
    "    # Resolvendo o sistema de equações\n",
    "    solucao = np.linalg.solve(coeficientes, resultados)\n",
    "\n",
    "    print(\"Solução:\")\n",
    "    print(\"x =\", solucao[0])\n",
    "    print(\"y =\", solucao[1])\n",
    "    print(\"z =\", solucao[2])"
   ]
  },
  {
   "cell_type": "code",
   "execution_count": 12,
   "metadata": {},
   "outputs": [
    {
     "name": "stdout",
     "output_type": "stream",
     "text": [
      "[[1. 0. 1.]\n",
      " [0. 1. 0.]\n",
      " [0. 1. 0.]]\n",
      "[[1. 0. 1.]\n",
      " [0. 1. 0.]\n",
      " [0. 1. 0.]]\n",
      "[[1. 0. 1.]\n",
      " [0. 1. 0.]\n",
      " [0. 0. 0.]]\n",
      "Solução:\n",
      "x = nan\n",
      "y = nan\n",
      "z = nan\n"
     ]
    },
    {
     "name": "stderr",
     "output_type": "stream",
     "text": [
      "C:\\Users\\Diogo\\AppData\\Local\\Temp\\ipykernel_5068\\3833277138.py:35: RuntimeWarning: invalid value encountered in scalar divide\n",
      "  x[i] = (resultados[i] - np.dot(coeficientes[i, i+1:], x[i+1:])) / coeficientes[i, i]\n"
     ]
    }
   ],
   "source": [
    "import numpy as np\n",
    "\n",
    "# Definindo os coeficientes do sistema de equações como float64\n",
    "coeficientes = np.array([[1.0, 0.0, 1.0],\n",
    "                         [1.0, 1.0, 1.0],\n",
    "                         [0.0, 1.0, 0.0]])\n",
    "\n",
    "# Definindo os resultados das equações como float64\n",
    "resultados = np.array([1.0, 3.0, 2.0])\n",
    "\n",
    "# Verificando se a matriz dos coeficientes é singular\n",
    "if np.linalg.matrix_rank(coeficientes) != np.linalg.matrix_rank(np.column_stack((coeficientes, resultados))):\n",
    "    print(\"A matriz dos coeficientes é singular. O sistema não tem solução única.\")\n",
    "else:\n",
    "    # Implementando a eliminação gaussiana\n",
    "    n = len(resultados)\n",
    "    x = np.zeros(n)\n",
    "\n",
    "    for i in range(n):\n",
    "        # Aplicando o pivotamento parcial\n",
    "        max_index = np.argmax(np.abs(coeficientes[i:, i])) + i\n",
    "        coeficientes[[i, max_index]] = coeficientes[[max_index, i]]\n",
    "        resultados[[i, max_index]] = resultados[[max_index, i]]\n",
    "\n",
    "        # Eliminação gaussiana\n",
    "        for j in range(i+1, n):\n",
    "            factor = coeficientes[j, i] / coeficientes[i, i]\n",
    "            resultados[j] -= factor * resultados[i]\n",
    "            coeficientes[j, i:] -= factor * coeficientes[i, i:]\n",
    "            \n",
    "            print(coeficientes)\n",
    "\n",
    "    # Resolvendo o sistema triangular superior\n",
    "    for i in range(n-1, -1, -1):\n",
    "        x[i] = (resultados[i] - np.dot(coeficientes[i, i+1:], x[i+1:])) / coeficientes[i, i]\n",
    "    \n",
    "\n",
    "    print(\"Solução:\")\n",
    "    print(\"x =\", x[0])\n",
    "    print(\"y =\", x[1])\n",
    "    print(\"z =\", x[2])\n"
   ]
  }
 ],
 "metadata": {
  "kernelspec": {
   "display_name": "Python 3",
   "language": "python",
   "name": "python3"
  },
  "language_info": {
   "codemirror_mode": {
    "name": "ipython",
    "version": 3
   },
   "file_extension": ".py",
   "mimetype": "text/x-python",
   "name": "python",
   "nbconvert_exporter": "python",
   "pygments_lexer": "ipython3",
   "version": "3.12.3"
  }
 },
 "nbformat": 4,
 "nbformat_minor": 2
}
